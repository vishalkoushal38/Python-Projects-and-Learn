{
  "nbformat": 4,
  "nbformat_minor": 0,
  "metadata": {
    "colab": {
      "name": "Chatbot Calculator.ipynb",
      "provenance": [],
      "collapsed_sections": []
    },
    "kernelspec": {
      "name": "python3",
      "display_name": "Python 3"
    },
    "language_info": {
      "name": "python"
    }
  },
  "cells": [
    {
      "cell_type": "markdown",
      "metadata": {
        "id": "TfHTsT0V6jfm"
      },
      "source": [
        "# Ai Calcy"
      ]
    },
    {
      "cell_type": "code",
      "metadata": {
        "colab": {
          "base_uri": "https://localhost:8080/"
        },
        "id": "E8ScnnyB6iuu",
        "outputId": "86dc52f7-b296-4951-c956-ab10d13b0f8b"
      },
      "source": [
        "from chatterbot import ChatBot\n",
        "\n",
        "# naming the ChatBot calculator\n",
        "# using mathematical evaluation logic\n",
        "# the calculator AI will not learn with the user input\n",
        "Bot = ChatBot(name = 'Calculator',\n",
        "                read_only = True,                  \n",
        "                logic_adapters = [\"chatterbot.logic.MathematicalEvaluation\"],                 \n",
        "                storage_adapter = \"chatterbot.storage.SQLStorageAdapter\")\n",
        "    \n",
        "\n",
        "# clear the screen and start the calculator\n",
        "print('\\033c')\n",
        "print(\"Hello, I am a calculator. How may I help you?\")\n",
        "while (True):\n",
        "    # take the input from the user\n",
        "    user_input = input(\"me: \")\n",
        "    \n",
        "    # check if the user has typed quit to exit the prgram   \n",
        "    if user_input.lower() == 'quit':\n",
        "        print(\"Exiting\")\n",
        "        break\n",
        "\n",
        "    # otherwise, evaluate the user input\n",
        "    # print invalid input if the AI is unable to comprehend the input\n",
        "    try:\n",
        "        response = Bot.get_response(user_input)\n",
        "        print(\"Calculator:\", response)\n",
        "    except:\n",
        "        print(\"Calculator: Please enter valid input.\")"
      ],
      "execution_count": 13,
      "outputs": [
        {
          "output_type": "stream",
          "text": [
            "\u001bc\n",
            "Hello, I am a calculator. How may I help you?\n",
            "me: what is sum of two and 25\n",
            "Calculator: Please enter valid input.\n",
            "me: sum of 2 25\n",
            "Calculator: 2 25 = 25\n",
            "me: sum  of 2, 25\n",
            "Calculator: 25 = 25\n",
            "me: 2 plus 5\n",
            "Calculator: 2 plus 5 = 7\n",
            "me: 0 minus 5\n",
            "Calculator: 0 minus 5 = -5\n",
            "me: quit\n",
            "Exiting\n"
          ],
          "name": "stdout"
        }
      ]
    }
  ]
}