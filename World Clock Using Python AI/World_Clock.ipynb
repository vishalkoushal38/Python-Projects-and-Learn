{
  "nbformat": 4,
  "nbformat_minor": 0,
  "metadata": {
    "colab": {
      "name": "World Clock.ipynb",
      "provenance": [],
      "include_colab_link": true
    },
    "kernelspec": {
      "name": "python3",
      "display_name": "Python 3"
    },
    "language_info": {
      "name": "python"
    }
  },
  "cells": [
    {
      "cell_type": "markdown",
      "metadata": {
        "id": "view-in-github",
        "colab_type": "text"
      },
      "source": [
        "<a href=\"https://colab.research.google.com/github/vishalkoushal38/Python-Projects-and-Learn/blob/master/World%20Clock%20Using%20Python%20AI/World_Clock.ipynb\" target=\"_parent\"><img src=\"https://colab.research.google.com/assets/colab-badge.svg\" alt=\"Open In Colab\"/></a>"
      ]
    },
    {
      "cell_type": "code",
      "metadata": {
        "colab": {
          "base_uri": "https://localhost:8080/"
        },
        "id": "7KkpXNYr1Ukw",
        "outputId": "d1625877-e678-46b9-d29d-f697fb675c7c"
      },
      "source": [
        "import datetime  \n",
        "\n",
        "while (True):\n",
        "  ## get the name of the city from the user\n",
        "  city = input(\"Enter city: \")\n",
        "\n",
        "  ## get the current time \n",
        "  current_time = datetime.datetime.now()\n",
        "\n",
        "  ## save hours, minutes and second of the current time \n",
        "  ## in their corresponding variables \n",
        "  hour = current_time.hour\n",
        "  minute = current_time.minute\n",
        "  second = current_time.second\n",
        "  \n",
        "  ## check for case 1: the learner has typed Boston\n",
        "  if city == \"Boston\":\n",
        "    hour = hour - 4 \n",
        "\n",
        "  ## check for case 2: the learner has typed Tokyo\n",
        "  elif city == \"Tokyo\":\n",
        "    hour = hour + 9\n",
        "\n",
        "  ## check for case 3: the learner has typed Chicago\n",
        "  elif city == \"Chicago\":\n",
        "    hour = hour - 5 \n",
        "\n",
        "  ## check for case 4: the learner has typed Seattle\n",
        "  elif city == \"Seattle\":\n",
        "    hour = hour - 7\n",
        "  \n",
        "  elif city == \"Kolkata\":\n",
        "    hour = hour + 5\n",
        "    minute = minute + 30\n",
        "\n",
        "  elif city == \"Karachi\":\n",
        "    hour = hour + 5\n",
        "\n",
        "  elif city == \"Cairo\":\n",
        "    hour = hour + 2\n",
        "  \n",
        "  elif city == \"Shanghai\":\n",
        "    hour = hour + 8\n",
        "  \n",
        "  ## check for case 5: the learner has typed exit\n",
        "  elif city == \"exit\": \n",
        "    print(\"Thank you\")\n",
        "    break\n",
        "\n",
        "  ## if all cases fail, show the time for GMT    \n",
        "  else:\n",
        "    print(city, \"is not added\")\n",
        "    city = \"GMT\" \n",
        "\n",
        "  # print the name of the city and the its corresponding time\n",
        "  print(city, str(hour) + \":\" + str(minute) + \":\" + str(second))\n"
      ],
      "execution_count": 8,
      "outputs": [
        {
          "output_type": "stream",
          "text": [
            "Enter city: Kolkata\n",
            "Kolkata 17:55:12\n",
            "Enter city: exit\n",
            "Thank you\n"
          ],
          "name": "stdout"
        }
      ]
    }
  ]
}